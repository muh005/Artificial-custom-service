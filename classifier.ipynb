{
 "cells": [
  {
   "cell_type": "code",
   "execution_count": 1,
   "metadata": {
    "collapsed": true
   },
   "outputs": [],
   "source": [
    "import nltk\n",
    "from nltk.stem.lancaster import LancasterStemmer\n",
    "import os\n",
    "import json\n",
    "import datetime\n",
    "import numpy as np\n",
    "import time\n",
    "import argparse\n",
    "stemmer = LancasterStemmer()"
   ]
  },
  {
   "cell_type": "code",
   "execution_count": 2,
   "metadata": {},
   "outputs": [
    {
     "name": "stdout",
     "output_type": "stream",
     "text": [
      "12 sentences in training data\n"
     ]
    }
   ],
   "source": [
    "training_data = []\n",
    "# createDataSet - create a dataset for training\n",
    "#def createDataSet():\n",
    "training_data.append({\"class\":\"greeting\", \"sentence\":\"how are you\"})\n",
    "training_data.append({\"class\":\"greeting\", \"sentence\":\"how is your day?\"})\n",
    "training_data.append({\"class\":\"greeting\", \"sentence\":\"good day\"})\n",
    "training_data.append({\"class\":\"greeting\", \"sentence\":\"how is it going today?\"})\n",
    "\n",
    "training_data.append({\"class\":\"goodbye\", \"sentence\":\"have a nice day\"})\n",
    "training_data.append({\"class\":\"goodbye\", \"sentence\":\"see you later\"})\n",
    "training_data.append({\"class\":\"goodbye\", \"sentence\":\"have a nice day\"})\n",
    "training_data.append({\"class\":\"goodbye\", \"sentence\":\"talk to you soon\"})\n",
    "\n",
    "training_data.append({\"class\":\"sandwich\", \"sentence\":\"make me a sandwich\"})\n",
    "training_data.append({\"class\":\"sandwich\", \"sentence\":\"can you make a sandwich?\"})\n",
    "training_data.append({\"class\":\"sandwich\", \"sentence\":\"having a sandwich today?\"})\n",
    "training_data.append({\"class\":\"sandwich\", \"sentence\":\"what's for lunch?\"})\n",
    "print (\"%s sentences in training data\" % len(training_data))"
   ]
  },
  {
   "cell_type": "code",
   "execution_count": 3,
   "metadata": {},
   "outputs": [
    {
     "name": "stdout",
     "output_type": "stream",
     "text": [
      "12 documents\n",
      "3 classes ['goodbye', 'sandwich', 'greeting']\n",
      "26 words ['talk', 'what', 'sandwich', 'lunch', 'for', 'day', 'you', 'soon', 'mak', 'nic', \"'s\", 'hav', 'good', 'lat', 'today', 'how', 'it', 'me', 'going', 'a', 'ar', 'can', 'to', 'is', 'yo', 'see']\n"
     ]
    }
   ],
   "source": [
    "words = []\n",
    "classes = []\n",
    "documents = []\n",
    "ignore_words = ['?']\n",
    "\n",
    "for pattern in training_data:\n",
    "    #tokenize each word in the sentence and append to word list\n",
    "    w = nltk.word_tokenize(pattern['sentence'])\n",
    "    words.extend(w)\n",
    "    documents.append((w, pattern['class']))\n",
    "    if pattern['class'] not in classes:\n",
    "        classes.append(pattern['class'])\n",
    "\n",
    "# remove the duplicate and toLowerCase\n",
    "words = [stemmer.stem(w.lower()) for w in words if w not in ignore_words]\n",
    "words = list(set(words))\n",
    "classes = list(set(classes))\n",
    "\n",
    "print (len(documents), \"documents\")\n",
    "print (len(classes), \"classes\", classes)\n",
    "print (len(words), \"words\", words)\n"
   ]
  },
  {
   "cell_type": "code",
   "execution_count": 4,
   "metadata": {},
   "outputs": [
    {
     "name": "stdout",
     "output_type": "stream",
     "text": [
      "['how', 'ar', 'you']\n",
      "[0, 0, 0, 0, 0, 0, 1, 0, 0, 0, 0, 0, 0, 0, 0, 1, 0, 0, 0, 0, 1, 0, 0, 0, 0, 0]\n",
      "[0, 0, 1]\n"
     ]
    }
   ],
   "source": [
    "training = []\n",
    "output = []\n",
    "output_empty = [0] * len(classes)\n",
    "\n",
    "for doc in documents:\n",
    "    # list of tokenized words for the pattern\n",
    "    bag = []\n",
    "    pattern_words = doc[0]\n",
    "    # stem each word\n",
    "    pattern_words = [stemmer.stem(word.lower()) for word in pattern_words]\n",
    "    for w in words:\n",
    "        if w in pattern_words:\n",
    "            bag.append(1)\n",
    "        else:\n",
    "            bag.append(0)\n",
    "    training.append(bag)\n",
    "    output_row = list(output_empty)\n",
    "    output_row[classes.index(doc[1])] = 1\n",
    "    output.append(output_row)\n",
    "i = 0\n",
    "w = documents[i][0]\n",
    "print([stemmer.stem(word.lower()) for word in w])\n",
    "print(training[i])\n",
    "print(output[i])"
   ]
  },
  {
   "cell_type": "code",
   "execution_count": 5,
   "metadata": {
    "collapsed": true
   },
   "outputs": [],
   "source": [
    "def sigmoid(x):\n",
    "    return (1/(1+np.exp(-x)))"
   ]
  },
  {
   "cell_type": "code",
   "execution_count": 6,
   "metadata": {
    "collapsed": true
   },
   "outputs": [],
   "source": [
    "# derive_sigmoid - convert output of sigmoid to its derivative\n",
    "# x - parameter\n",
    "# math formula x*(1-x)\n",
    "def derive_sigmoid(x):\n",
    "    return (x*(1-x))"
   ]
  },
  {
   "cell_type": "code",
   "execution_count": 7,
   "metadata": {
    "collapsed": true
   },
   "outputs": [],
   "source": [
    "# clean - tokenize pattern and stem each word\n",
    "# sentence\n",
    "def clean(sentence):\n",
    "    # tokenize the pattern\n",
    "    sentence_words = nltk.word_tokenize(sentence)\n",
    "    # stem word\n",
    "    sentence_words = [stemmer.stem(word.lower()) for word in sentence_words]\n",
    "    return sentence_words"
   ]
  },
  {
   "cell_type": "code",
   "execution_count": 8,
   "metadata": {
    "collapsed": true
   },
   "outputs": [],
   "source": [
    "def vectorize(sentence, words):\n",
    "    # tokenize the pattern\n",
    "    sentence_words = clean(sentence)\n",
    "    # bag of words\n",
    "    bag = [0]*len(words)\n",
    "    for s in sentence_words:\n",
    "        for i, w in enumerate(words):\n",
    "            if w == s:\n",
    "                bag[i] = 1\n",
    "    return (np.array(bag))"
   ]
  },
  {
   "cell_type": "code",
   "execution_count": 9,
   "metadata": {
    "collapsed": true
   },
   "outputs": [],
   "source": [
    "def think(sentence):\n",
    "    x = vectorize(sentence.lower(), words)\n",
    "    # input layer (l0) is words\n",
    "    l0 = x\n",
    "    # hidden layer (l1) is matrix multiplication\n",
    "    l1 = sigmoid(np.dot(l0, synapse_0))\n",
    "    # output layer\n",
    "    l2 = sigmoid(np.dot(l1, synapse_1))\n",
    "    return l2"
   ]
  },
  {
   "cell_type": "code",
   "execution_count": 10,
   "metadata": {
    "collapsed": true
   },
   "outputs": [],
   "source": [
    "def train(X, y, hidden_neurons= 10, alpha=1, epochs = 50000, dropout = False, dropout_rate = 0.5):\n",
    "    print (\"Training with %s neurons, alpha:%s, dropout:%s %s\" % (hidden_neurons, str(alpha), dropout, dropout_rate if dropout else ''))\n",
    "    print (\"Input matrix: %sx%s Output matrix: %sx%s\" % (len(X),len(X[0]),1, len(classes)))\n",
    "    np.random.seed(1)\n",
    "    last_mean_error = 1\n",
    "    # randomly initialize our weights with mean 0\n",
    "    synapse_0 = 2*np.random.random((len(X[0]), hidden_neurons))-1\n",
    "    synapse_1 = 2*np.random.random((hidden_neurons,len(classes)))-1\n",
    "\n",
    "    prev_synapse_0_weight = np.zeros_like(synapse_0)\n",
    "    prev_synapse_1_weight = np.zeros_like(synapse_1)\n",
    "    \n",
    "    synapse_0_direction_count = np.zeros_like(synapse_0)\n",
    "    synapse_1_direction_count = np.zeros_like(synapse_1)\n",
    "\n",
    "    for j in iter(range(epochs+1)):\n",
    "        # think through layer 0, 1, 2\n",
    "        layer_0 = X\n",
    "        layer_1 = sigmoid(np.dot(layer_0, synapse_0))\n",
    "\n",
    "        if(dropout):\n",
    "            layer_1 *= np.random.binomial([np.ones((len(X),hidden_neurons))],1-dropout_rate)[0] * (1.0/(1-dropout_rate))\n",
    "\n",
    "            layer_2 = sigmoid(np.dot(layer_1, synapse_1))\n",
    "\n",
    "            # miss the target value\n",
    "            layer_2_error = y - layer_2\n",
    "\n",
    "            if(j % 10000) == 0 and j > 5000:\n",
    "                if np.mean(np.abs(layer_2_error)) < last_mean_error:\n",
    "                    print(\"delta after\" + str(j) + \"iterations:\" + str(np.mean(np.abs(layer_2_error))))\n",
    "                    last_mean_error = np.mean(np.abs(layer_2_error))\n",
    "                else:\n",
    "                    print(\"break:\", np.mean(np.abs(layer_2_error)), \">\", last_mean_error)\n",
    "                    break\n",
    "\n",
    "            # check the direction of target layer 2\n",
    "            layer_2_delta = layer_2_error * derive_sigmoid(layer_2)\n",
    "            # layer 1 error contributes to layer 2 error\n",
    "            layer_1_error = layer_2_delta.dot(synapse_1.T)\n",
    "\n",
    "            # check the direction of target layer 1\n",
    "            layer_1_delta = layer_1_error * derive_sigmoid(layer_1)\n",
    "\n",
    "            synapse_1_weight = (layer_1.T.dot(layer_2_delta))\n",
    "            synapse_0_weight = (layer_0.T.dot(layer_1_delta))\n",
    "\n",
    "            if(j > 0):\n",
    "                synapse_0_direction_count += np.abs(((synapse_0_weight > 0) + 0) - ((prev_synapse_0_weight > 0) + 0))\n",
    "                synapse_1_direction_count += np.abs(((synapse_1_weight > 0) + 0) - ((prev_synapse_1_weight > 0) + 0))\n",
    "            synapse_1 += alpha * synapse_1_weight\n",
    "            synapse_0 += alhpa * synapse_0_weight\n",
    "\n",
    "            prev_synapse_0_weight = synapse_0_weight\n",
    "            prev_synapse_1_weight = synapse_1_weight\n",
    "\n",
    "        now = datetime.datetime.now()\n",
    "\n",
    "        # presist synapse\n",
    "        synapse = {'synapse0': synapse_0.tolist(), 'synapse1': synapse_1.tolist(),\n",
    "                   'datetime': now.strftime(\"%Y-%m-%d %H:%M\"),\n",
    "                   'words': words,\n",
    "                   'classes': classes\n",
    "                  }\n",
    "        synapse_file = \"synapses.json\"\n",
    "\n",
    "        with open(synapse_file, 'w') as outfile:\n",
    "            json.dump(synapse, outfile, indent = 4, sort_keys = True)\n",
    "    print(\"saved synapses to: \", synapse_file) \n"
   ]
  },
  {
   "cell_type": "code",
   "execution_count": 11,
   "metadata": {},
   "outputs": [
    {
     "name": "stdout",
     "output_type": "stream",
     "text": [
      "Training with 20 neurons, alpha:0.1, dropout:False \n",
      "Input matrix: 12x26 Output matrix: 1x3\n",
      "saved synapses to:  synapses.json\n",
      "processing time: 329.8283472061157 seconds\n"
     ]
    }
   ],
   "source": [
    "X = np.array(training)\n",
    "y = np.array(output)\n",
    "\n",
    "start_time = time.time()\n",
    "train(X, y, hidden_neurons = 20, alpha = 0.1, epochs=100000, dropout=False, dropout_rate=0.2)\n",
    "elapsed_time = time.time() - start_time\n",
    "print(\"processing time:\", elapsed_time, \"seconds\")"
   ]
  },
  {
   "cell_type": "code",
   "execution_count": 12,
   "metadata": {
    "collapsed": true
   },
   "outputs": [],
   "source": [
    "# probability threshold\n",
    "ERROR_THRESHOLD = 0.2\n",
    "# load our calculated synapse values\n",
    "synapse_file = 'synapses.json'\n",
    "\n",
    "with open(synapse_file) as data_file:\n",
    "    synapse = json.load(data_file)\n",
    "    synapse_0 = np.asarray(synapse['synapse0'])\n",
    "    synapse_1 = np.asarray(synapse['synapse1'])\n",
    "\n",
    "def classify(sentence):\n",
    "    results = think(sentence)\n",
    "    results = [[i, r] for i, r in enumerate(results) if r > ERROR_THRESHOLD]\n",
    "    results.sort(key = lambda x: x[1], reverse = True)\n",
    "    return_results = [[classes[r[0]], r[1]] for r in results]\n",
    "    print (\"%s \\n classification: %s\" % (sentence, return_results))\n",
    "    return return_results"
   ]
  },
  {
   "cell_type": "code",
   "execution_count": 13,
   "metadata": {},
   "outputs": [
    {
     "name": "stdout",
     "output_type": "stream",
     "text": [
      "make me a sandwich \n",
      " classification: [['goodbye', 0.64994612103882565], ['greeting', 0.38814728124373865]]\n",
      "how are you today? \n",
      " classification: [['goodbye', 0.85575021076984159], ['greeting', 0.45121921255979403], ['sandwich', 0.35984720147603394]]\n",
      "talk to you tomorrow \n",
      " classification: [['goodbye', 0.76973340453727057], ['greeting', 0.73217345855696536]]\n",
      "who are you \n",
      " classification: [['goodbye', 0.86844080323857131], ['greeting', 0.57169049782907766], ['sandwich', 0.38944551683202083]]\n",
      "make me some food \n",
      " classification: [['goodbye', 0.61338652818118122], ['greeting', 0.51612671962065881]]\n",
      "how was your lunch today \n",
      " classification: [['goodbye', 0.51937935327871487], ['greeting', 0.39915703302198702]]\n",
      "good day \n",
      " classification: [['goodbye', 0.76530577509719711], ['greeting', 0.64037349707137126], ['sandwich', 0.32459717579778646]]\n"
     ]
    },
    {
     "data": {
      "text/plain": [
       "[['goodbye', 0.76530577509719711],\n",
       " ['greeting', 0.64037349707137126],\n",
       " ['sandwich', 0.32459717579778646]]"
      ]
     },
     "execution_count": 13,
     "metadata": {},
     "output_type": "execute_result"
    }
   ],
   "source": [
    "classify(\"make me a sandwich\")\n",
    "classify(\"how are you today?\")\n",
    "classify(\"talk to you tomorrow\")\n",
    "classify(\"who are you\")\n",
    "classify(\"make me some food\")\n",
    "classify(\"how was your lunch today\")\n",
    "classify(\"good day\")"
   ]
  },
  {
   "cell_type": "code",
   "execution_count": null,
   "metadata": {
    "collapsed": true
   },
   "outputs": [],
   "source": []
  }
 ],
 "metadata": {
  "kernelspec": {
   "display_name": "Python 3",
   "language": "python",
   "name": "python3"
  },
  "language_info": {
   "codemirror_mode": {
    "name": "ipython",
    "version": 3
   },
   "file_extension": ".py",
   "mimetype": "text/x-python",
   "name": "python",
   "nbconvert_exporter": "python",
   "pygments_lexer": "ipython3",
   "version": "3.6.3"
  }
 },
 "nbformat": 4,
 "nbformat_minor": 2
}
